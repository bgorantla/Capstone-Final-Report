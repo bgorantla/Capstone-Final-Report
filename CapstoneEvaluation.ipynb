{
 "cells": [
  {
   "cell_type": "markdown",
   "id": "95d51a2d",
   "metadata": {},
   "source": [
    "# Capstone Evaluation"
   ]
  },
  {
   "cell_type": "markdown",
   "id": "4e984e5b",
   "metadata": {},
   "source": [
    "In this notebook, I will build upon the work I have done in the \"USING DATA TO PREDICT HUMAN LONGEVITY\" project.  \n",
    "All the data has been looked at and cleaned. Multiple models have been trained.  \n",
    "In this notebook, I will use the data to ask more questions and come to more conclusions.  \n",
    "The first thing I need to do, is load the data and clean it."
   ]
  },
  {
   "cell_type": "code",
   "execution_count": 28,
   "id": "59701048",
   "metadata": {},
   "outputs": [],
   "source": [
    "import pandas as pd\n",
    "import matplotlib.pyplot as plt\n",
    "import seaborn as sns\n",
    "from sklearn.model_selection import GridSearchCV, RandomizedSearchCV, train_test_split\n",
    "from sklearn.neighbors import KNeighborsClassifier\n",
    "from sklearn.metrics import accuracy_score\n",
    "from sklearn.linear_model import LogisticRegression\n",
    "from sklearn.tree import DecisionTreeClassifier\n",
    "from sklearn.svm import SVC\n",
    "import numpy as np"
   ]
  },
  {
   "cell_type": "code",
   "execution_count": 29,
   "id": "16a1d310",
   "metadata": {},
   "outputs": [],
   "source": [
    "life_data = pd.read_csv(\"Life Expectancy Data.csv\")"
   ]
  },
  {
   "cell_type": "code",
   "execution_count": 21,
   "id": "44de6638",
   "metadata": {},
   "outputs": [
    {
     "data": {
      "text/html": [
       "<div>\n",
       "<style scoped>\n",
       "    .dataframe tbody tr th:only-of-type {\n",
       "        vertical-align: middle;\n",
       "    }\n",
       "\n",
       "    .dataframe tbody tr th {\n",
       "        vertical-align: top;\n",
       "    }\n",
       "\n",
       "    .dataframe thead th {\n",
       "        text-align: right;\n",
       "    }\n",
       "</style>\n",
       "<table border=\"1\" class=\"dataframe\">\n",
       "  <thead>\n",
       "    <tr style=\"text-align: right;\">\n",
       "      <th></th>\n",
       "      <th>Country</th>\n",
       "      <th>Year</th>\n",
       "      <th>Status</th>\n",
       "      <th>Life expectancy</th>\n",
       "      <th>Adult Mortality</th>\n",
       "      <th>infant deaths</th>\n",
       "      <th>Alcohol</th>\n",
       "      <th>percentage expenditure</th>\n",
       "      <th>Hepatitis B</th>\n",
       "      <th>Measles</th>\n",
       "      <th>...</th>\n",
       "      <th>Polio</th>\n",
       "      <th>Total expenditure</th>\n",
       "      <th>Diphtheria</th>\n",
       "      <th>HIV/AIDS</th>\n",
       "      <th>GDP</th>\n",
       "      <th>Population</th>\n",
       "      <th>thinness  1-19 years</th>\n",
       "      <th>thinness 5-9 years</th>\n",
       "      <th>Income composition of resources</th>\n",
       "      <th>Schooling</th>\n",
       "    </tr>\n",
       "  </thead>\n",
       "  <tbody>\n",
       "    <tr>\n",
       "      <th>0</th>\n",
       "      <td>Afghanistan</td>\n",
       "      <td>2015</td>\n",
       "      <td>Developing</td>\n",
       "      <td>65.0</td>\n",
       "      <td>263.0</td>\n",
       "      <td>62</td>\n",
       "      <td>0.01</td>\n",
       "      <td>71.279624</td>\n",
       "      <td>65.0</td>\n",
       "      <td>1154</td>\n",
       "      <td>...</td>\n",
       "      <td>6.0</td>\n",
       "      <td>8.16</td>\n",
       "      <td>65.0</td>\n",
       "      <td>0.1</td>\n",
       "      <td>584.259210</td>\n",
       "      <td>33736494.0</td>\n",
       "      <td>17.2</td>\n",
       "      <td>17.3</td>\n",
       "      <td>0.479</td>\n",
       "      <td>10.1</td>\n",
       "    </tr>\n",
       "    <tr>\n",
       "      <th>1</th>\n",
       "      <td>Afghanistan</td>\n",
       "      <td>2014</td>\n",
       "      <td>Developing</td>\n",
       "      <td>59.9</td>\n",
       "      <td>271.0</td>\n",
       "      <td>64</td>\n",
       "      <td>0.01</td>\n",
       "      <td>73.523582</td>\n",
       "      <td>62.0</td>\n",
       "      <td>492</td>\n",
       "      <td>...</td>\n",
       "      <td>58.0</td>\n",
       "      <td>8.18</td>\n",
       "      <td>62.0</td>\n",
       "      <td>0.1</td>\n",
       "      <td>612.696514</td>\n",
       "      <td>327582.0</td>\n",
       "      <td>17.5</td>\n",
       "      <td>17.5</td>\n",
       "      <td>0.476</td>\n",
       "      <td>10.0</td>\n",
       "    </tr>\n",
       "    <tr>\n",
       "      <th>2</th>\n",
       "      <td>Afghanistan</td>\n",
       "      <td>2013</td>\n",
       "      <td>Developing</td>\n",
       "      <td>59.9</td>\n",
       "      <td>268.0</td>\n",
       "      <td>66</td>\n",
       "      <td>0.01</td>\n",
       "      <td>73.219243</td>\n",
       "      <td>64.0</td>\n",
       "      <td>430</td>\n",
       "      <td>...</td>\n",
       "      <td>62.0</td>\n",
       "      <td>8.13</td>\n",
       "      <td>64.0</td>\n",
       "      <td>0.1</td>\n",
       "      <td>631.744976</td>\n",
       "      <td>31731688.0</td>\n",
       "      <td>17.7</td>\n",
       "      <td>17.7</td>\n",
       "      <td>0.470</td>\n",
       "      <td>9.9</td>\n",
       "    </tr>\n",
       "    <tr>\n",
       "      <th>3</th>\n",
       "      <td>Afghanistan</td>\n",
       "      <td>2012</td>\n",
       "      <td>Developing</td>\n",
       "      <td>59.5</td>\n",
       "      <td>272.0</td>\n",
       "      <td>69</td>\n",
       "      <td>0.01</td>\n",
       "      <td>78.184215</td>\n",
       "      <td>67.0</td>\n",
       "      <td>2787</td>\n",
       "      <td>...</td>\n",
       "      <td>67.0</td>\n",
       "      <td>8.52</td>\n",
       "      <td>67.0</td>\n",
       "      <td>0.1</td>\n",
       "      <td>669.959000</td>\n",
       "      <td>3696958.0</td>\n",
       "      <td>17.9</td>\n",
       "      <td>18.0</td>\n",
       "      <td>0.463</td>\n",
       "      <td>9.8</td>\n",
       "    </tr>\n",
       "    <tr>\n",
       "      <th>4</th>\n",
       "      <td>Afghanistan</td>\n",
       "      <td>2011</td>\n",
       "      <td>Developing</td>\n",
       "      <td>59.2</td>\n",
       "      <td>275.0</td>\n",
       "      <td>71</td>\n",
       "      <td>0.01</td>\n",
       "      <td>7.097109</td>\n",
       "      <td>68.0</td>\n",
       "      <td>3013</td>\n",
       "      <td>...</td>\n",
       "      <td>68.0</td>\n",
       "      <td>7.87</td>\n",
       "      <td>68.0</td>\n",
       "      <td>0.1</td>\n",
       "      <td>63.537231</td>\n",
       "      <td>2978599.0</td>\n",
       "      <td>18.2</td>\n",
       "      <td>18.2</td>\n",
       "      <td>0.454</td>\n",
       "      <td>9.5</td>\n",
       "    </tr>\n",
       "  </tbody>\n",
       "</table>\n",
       "<p>5 rows × 22 columns</p>\n",
       "</div>"
      ],
      "text/plain": [
       "       Country  Year      Status  Life expectancy   Adult Mortality  \\\n",
       "0  Afghanistan  2015  Developing              65.0            263.0   \n",
       "1  Afghanistan  2014  Developing              59.9            271.0   \n",
       "2  Afghanistan  2013  Developing              59.9            268.0   \n",
       "3  Afghanistan  2012  Developing              59.5            272.0   \n",
       "4  Afghanistan  2011  Developing              59.2            275.0   \n",
       "\n",
       "   infant deaths  Alcohol  percentage expenditure  Hepatitis B  Measles   ...  \\\n",
       "0             62     0.01               71.279624         65.0      1154  ...   \n",
       "1             64     0.01               73.523582         62.0       492  ...   \n",
       "2             66     0.01               73.219243         64.0       430  ...   \n",
       "3             69     0.01               78.184215         67.0      2787  ...   \n",
       "4             71     0.01                7.097109         68.0      3013  ...   \n",
       "\n",
       "   Polio  Total expenditure  Diphtheria    HIV/AIDS         GDP  Population  \\\n",
       "0    6.0               8.16         65.0        0.1  584.259210  33736494.0   \n",
       "1   58.0               8.18         62.0        0.1  612.696514    327582.0   \n",
       "2   62.0               8.13         64.0        0.1  631.744976  31731688.0   \n",
       "3   67.0               8.52         67.0        0.1  669.959000   3696958.0   \n",
       "4   68.0               7.87         68.0        0.1   63.537231   2978599.0   \n",
       "\n",
       "    thinness  1-19 years   thinness 5-9 years  \\\n",
       "0                   17.2                 17.3   \n",
       "1                   17.5                 17.5   \n",
       "2                   17.7                 17.7   \n",
       "3                   17.9                 18.0   \n",
       "4                   18.2                 18.2   \n",
       "\n",
       "   Income composition of resources  Schooling  \n",
       "0                            0.479       10.1  \n",
       "1                            0.476       10.0  \n",
       "2                            0.470        9.9  \n",
       "3                            0.463        9.8  \n",
       "4                            0.454        9.5  \n",
       "\n",
       "[5 rows x 22 columns]"
      ]
     },
     "execution_count": 21,
     "metadata": {},
     "output_type": "execute_result"
    }
   ],
   "source": [
    "life_data.head()"
   ]
  },
  {
   "cell_type": "code",
   "execution_count": 30,
   "id": "3276544b",
   "metadata": {},
   "outputs": [],
   "source": [
    "life_data = life_data.dropna()"
   ]
  },
  {
   "cell_type": "code",
   "execution_count": 34,
   "id": "926b8f71",
   "metadata": {},
   "outputs": [],
   "source": [
    "bin_edges = [0, 55, 65, 75, float('inf')]\n",
    "bin_labels = ['0 - 55', '55 - 65', '65 - 75', '75 and above']\n",
    "life_data_categorical = life_data.copy()\n",
    "life_data_categorical['Life expectancy '] = pd.cut(life_data_categorical['Life expectancy '], bins=bin_edges, labels=bin_labels, right=False)"
   ]
  },
  {
   "cell_type": "markdown",
   "id": "c04ff1fa",
   "metadata": {},
   "source": [
    "**FIRST QUESTION: What is the difference in longevity in developing countries vs developed countries?**"
   ]
  },
  {
   "cell_type": "markdown",
   "id": "ad24922c",
   "metadata": {},
   "source": [
    "To answer this question, I first need to make the right datasets."
   ]
  },
  {
   "cell_type": "code",
   "execution_count": 23,
   "id": "a3ac88a6",
   "metadata": {},
   "outputs": [
    {
     "data": {
      "image/png": "[encoded data removed]",
      "text/plain": [
       "<Figure size 1000x600 with 1 Axes>"
      ]
     },
     "metadata": {},
     "output_type": "display_data"
    }
   ],
   "source": [
    "grouped_data = life_data.groupby(['Year', 'Status'])['Life expectancy '].mean().reset_index()\n",
    "pivot_data = grouped_data.pivot(index='Year', columns='Status', values='Life expectancy ')\n",
    "pivot_data.plot(kind='line', marker='o', figsize=(10, 6))\n",
    "plt.title('Average Life Expectancy of Developing vs. Developed Countries (2000-2015)')\n",
    "plt.xlabel('Year')\n",
    "plt.ylabel('Average Life Expectancy')\n",
    "plt.legend(title='Development', bbox_to_anchor=(1.05, 1), loc='upper left')\n",
    "plt.show()"
   ]
  },
  {
   "cell_type": "code",
   "execution_count": 24,
   "id": "b1c37794",
   "metadata": {},
   "outputs": [
    {
     "data": {
      "image/png": "[encoded data removed]",
      "text/plain": [
       "<Figure size 1000x600 with 1 Axes>"
      ]
     },
     "metadata": {},
     "output_type": "display_data"
    }
   ],
   "source": [
    "count_by_year = life_data.groupby(['Year', 'Status']).size().unstack()\n",
    "count_by_year.plot(kind='bar', stacked=True, figsize=(10, 6))\n",
    "plt.title('Number of Developing vs Developed Countries (2000-2015)')\n",
    "plt.xlabel('Year')\n",
    "plt.ylabel('Number of Countries')\n",
    "plt.legend(title='Development', bbox_to_anchor=(1.05, 1), loc='upper left')\n",
    "plt.show()"
   ]
  },
  {
   "cell_type": "markdown",
   "id": "bad177cb",
   "metadata": {},
   "source": [
    "**Answer 1:**  \n",
    "These two graphs show us that over the years, the life expectancy in both developed and developing countries has steadily  \n",
    "although the number of developed countries has very slightly increased over the years.  \n",
    "The difference in longevity between the two types of countries is still 8 years in the year 2015."
   ]
  },
  {
   "cell_type": "markdown",
   "id": "e1a18382",
   "metadata": {},
   "source": [
    "**SECOND QUESTION:** What factors affect longevity in developed countries vs developing countries."
   ]
  },
  {
   "cell_type": "markdown",
   "id": "8f1f8ffb",
   "metadata": {},
   "source": [
    "To answer this question, I first need to make the appropriate datasets."
   ]
  },
  {
   "cell_type": "code",
   "execution_count": 35,
   "id": "64fc7df1",
   "metadata": {},
   "outputs": [],
   "source": [
    "developed_countries = life_data_categorical[life_data_categorical['Status'] == 'Developed']\n",
    "y_developed = developed_countries['Life expectancy ']\n",
    "developed_countries = developed_countries.drop(['Life expectancy ', 'Year', 'Country', 'Status'], axis = 1)\n",
    "developing_countries = life_data_categorical[life_data_categorical['Status'] == 'Developing']\n",
    "y_developing = developing_countries['Life expectancy ']\n",
    "developing_countries = developing_countries.drop(['Life expectancy ', 'Year', 'Country', 'Status'], axis = 1)"
   ]
  },
  {
   "cell_type": "markdown",
   "id": "5987786e",
   "metadata": {},
   "source": [
    "Now that I have the required datasets, I will run an algorithm that checks which factors affect longevity the most."
   ]
  },
  {
   "cell_type": "code",
   "execution_count": 40,
   "id": "ee159dc1",
   "metadata": {},
   "outputs": [
    {
     "name": "stdout",
     "output_type": "stream",
     "text": [
      "                            Feature  Importance\n",
      "0                   Adult Mortality    0.203618\n",
      "16  Income composition of resources    0.144041\n",
      "11                         HIV/AIDS    0.115599\n",
      "17                        Schooling    0.082858\n",
      "15               thinness 5-9 years    0.058303\n",
      "14             thinness  1-19 years    0.047605\n",
      "3            percentage expenditure    0.040907\n",
      "2                           Alcohol    0.040429\n",
      "6                              BMI     0.040025\n",
      "9                 Total expenditure    0.036999\n",
      "7                under-five deaths     0.036806\n",
      "12                              GDP    0.035082\n",
      "1                     infant deaths    0.025652\n",
      "13                       Population    0.022590\n",
      "8                             Polio    0.019340\n",
      "10                      Diphtheria     0.018653\n",
      "4                       Hepatitis B    0.016541\n",
      "5                          Measles     0.014954\n"
     ]
    }
   ],
   "source": [
    "#Calculating most important factors for developing countries\n",
    "from sklearn.ensemble import RandomForestClassifier\n",
    "rf_classifier = RandomForestClassifier(n_estimators=100, random_state=42)\n",
    "rf_classifier.fit(developing_countries, y_developing)\n",
    "feature_importances = rf_classifier.feature_importances_\n",
    "feature_importance_results = pd.DataFrame({'Feature': developing_countries.columns, 'Importance': feature_importances})\n",
    "feature_importance_results.sort_values(by='Importance', ascending=False, inplace=True)\n",
    "\n",
    "# Display the results\n",
    "print(feature_importance_results)"
   ]
  },
  {
   "cell_type": "code",
   "execution_count": 39,
   "id": "f2b122a0",
   "metadata": {},
   "outputs": [
    {
     "name": "stdout",
     "output_type": "stream",
     "text": [
      "                            Feature  Importance\n",
      "14             thinness  1-19 years    0.229261\n",
      "0                   Adult Mortality    0.181883\n",
      "15               thinness 5-9 years    0.174558\n",
      "16  Income composition of resources    0.096735\n",
      "9                 Total expenditure    0.054385\n",
      "3            percentage expenditure    0.042068\n",
      "10                      Diphtheria     0.038452\n",
      "17                        Schooling    0.033854\n",
      "8                             Polio    0.026112\n",
      "12                              GDP    0.025040\n",
      "4                       Hepatitis B    0.021839\n",
      "2                           Alcohol    0.021371\n",
      "13                       Population    0.016030\n",
      "6                              BMI     0.012421\n",
      "7                under-five deaths     0.010780\n",
      "1                     infant deaths    0.007938\n",
      "5                          Measles     0.007271\n",
      "11                         HIV/AIDS    0.000000\n"
     ]
    }
   ],
   "source": [
    "#Calculating most important factors for developed countries\n",
    "rf_classifier = RandomForestClassifier(n_estimators=100, random_state=42)\n",
    "rf_classifier.fit(developed_countries, y_developed)\n",
    "feature_importances = rf_classifier.feature_importances_\n",
    "feature_importance_results = pd.DataFrame({'Feature': developing_countries.columns, 'Importance': feature_importances})\n",
    "feature_importance_results.sort_values(by='Importance', ascending=False, inplace=True)\n",
    "\n",
    "# Display the results\n",
    "print(feature_importance_results)"
   ]
  },
  {
   "cell_type": "markdown",
   "id": "824f5716",
   "metadata": {},
   "source": [
    "**Answer 2:**  \n",
    "Funnily enough, the most important factor that affects longevity in developed countries is 'thinness  1-19 years'.\n",
    "The second most important feature is 'thinness 5-9 years'. An abundance of resources in developed countries is affecting the longevity of the population.  \n",
    "For developing countries on the other hand, income and HIV/AIDS are the two biggest features that affect longevity while thinness are fourth and fifth place.  \n",
    "HIV/AIDS come in last place in developed countries. This is likely due to better access to medicine."
   ]
  },
  {
   "cell_type": "markdown",
   "id": "38c2f5dc",
   "metadata": {},
   "source": [
    "**Using Models to Make a Prediction**"
   ]
  },
  {
   "cell_type": "markdown",
   "id": "e4fa135c",
   "metadata": {},
   "source": [
    "We know the best model for predictions is the decision tree. Let's train a decision tree again and test it on new data points.  \n",
    "We already know the best max_depth for this data is 10."
   ]
  },
  {
   "cell_type": "markdown",
   "id": "7c5e9406",
   "metadata": {},
   "source": [
    "The reason decision trees work the best has been discussed in the previous notebbok."
   ]
  },
  {
   "cell_type": "code",
   "execution_count": 44,
   "id": "4e4e6444",
   "metadata": {},
   "outputs": [],
   "source": [
    "depths = []\n",
    "DT_accuracy = []\n",
    "X = life_data_categorical.drop(['Life expectancy ', 'Year', 'Country', 'Status'], axis = 1)\n",
    "y = life_data_categorical['Life expectancy ']\n",
    "for max_depth in range(1, 20):\n",
    "    depths.append(max_depth)\n",
    "    dt_model = DecisionTreeClassifier(max_depth = 10, random_state=42)\n",
    "    dt_model.fit(X, y)"
   ]
  },
  {
   "cell_type": "code",
   "execution_count": 59,
   "id": "7c2d33ae",
   "metadata": {},
   "outputs": [],
   "source": [
    "test_data = pd.DataFrame({'Adult Mortality': [100, 200, 300], 'infant deaths': [30, 40, 50], 'Alcohol': [10, 30, 50], 'percentage expenditure': [75, 50, 25], 'Hepatitis B': [65, 20, 35], 'Measles ': [324, 654, 564], ' BMI ': [20, 25, 30],'under-five deaths ':[23, 54, 76], 'Polio': [45, 23, 67], 'Total expenditure': [8, 10, 12], 'Diphtheria ': [10, 20, 30], ' HIV/AIDS': [0.1, 0.1, 0.1], 'GDP': [589, 3234, 2332], 'Population': [32424324, 234234243, 234234234], ' thinness  1-19 years': [17, 20, 30], ' thinness 5-9 years': [17, 20, 30], 'Income composition of resources': [0.7, 0.5, 0.3], 'Schooling': [10, 15, 20]})\n",
    "y_pred = dt_model.predict(test_data)"
   ]
  },
  {
   "cell_type": "markdown",
   "id": "0c639b46",
   "metadata": {},
   "source": [
    "Now that we have trained the model, let's make some completely new test data points.  \n",
    "I have made three test cases. Here they are:  \n",
    "'Adult Mortality':  &emsp;[100, 200, 300]  \n",
    "'infant deaths':  &emsp;[30, 40, 50]  \n",
    "'Alcohol': &emsp;[10, 30, 50]  \n",
    "'percentage expenditure': &emsp;[75, 50, 25]  \n",
    "'Hepatitis B': &emsp;[65, 20, 35]  \n",
    "'Measles ': &emsp;[324, 654, 564]  \n",
    "' BMI ': &emsp;[20, 25, 30]  \n",
    "'under-five deaths ':    &emsp;[23, 54, 76]   \n",
    "'Polio':  &emsp;(45, 23, 67)  \n",
    "'Total expenditure': &emsp;[8, 10, 12]  \n",
    "'Diphtheria ': &emsp;[10, 20, 30]  \n",
    "' HIV/AIDS': &emsp;[0.1, 0.1, 0.1]  \n",
    "'GDP': &emsp;[589, 3234, 2332]   \n",
    "'Population': &emsp;[32424324, 234234243, 234234234]  \n",
    "' thinness  1-19 years': &emsp;[17, 20, 30]  \n",
    "' thinness 5-9 years': &emsp;[17, 20, 30]  \n",
    "'Income composition of resources': &emsp;[0.7, 0.5, 0.3]  \n",
    "'Schooling': &emsp;[10, 15, 20]  "
   ]
  },
  {
   "cell_type": "markdown",
   "id": "649bf28f",
   "metadata": {},
   "source": [
    "Let's look at the predictions the trained DecisionTree has made:\n"
   ]
  },
  {
   "cell_type": "code",
   "execution_count": 60,
   "id": "6339b419",
   "metadata": {},
   "outputs": [
    {
     "name": "stdout",
     "output_type": "stream",
     "text": [
      "['65 - 75' '75 and above' '55 - 65']\n"
     ]
    }
   ],
   "source": [
    "print(y_pred)"
   ]
  },
  {
   "cell_type": "markdown",
   "id": "6d03351c",
   "metadata": {},
   "source": [
    "The trained DecisionTree model has made three different predictions for the three test cases. Similarly, an insurance company  \n",
    "that wants to expand into a new region can check to see if it is worthwhile using this decision tree model.  \n",
    "The only caveat is that these attributes need to be available to them."
   ]
  },
  {
   "cell_type": "markdown",
   "id": "93d343d8",
   "metadata": {},
   "source": [
    "# NEXT STEPS AND RECOMMENDATIONS "
   ]
  },
  {
   "cell_type": "markdown",
   "id": "fe0f319e",
   "metadata": {},
   "source": [
    "The next step would be to make the models more accurate. To do this, more recent data after the year 2015 can be used.  \n",
    "The final models can be used by insurance companies to calcualate the life expectancy of a region they want to  sell insurance to.  \n",
    "The method to do this was shown above."
   ]
  }
 ],
 "metadata": {
  "kernelspec": {
   "display_name": "Python 3 (ipykernel)",
   "language": "python",
   "name": "python3"
  },
  "language_info": {
   "codemirror_mode": {
    "name": "ipython",
    "version": 3
   },
   "file_extension": ".py",
   "mimetype": "text/x-python",
   "name": "python",
   "nbconvert_exporter": "python",
   "pygments_lexer": "ipython3",
   "version": "3.9.13"
  }
 },
 "nbformat": 4,
 "nbformat_minor": 5
}
